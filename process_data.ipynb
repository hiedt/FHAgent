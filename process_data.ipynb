{
 "cells": [
  {
   "cell_type": "markdown",
   "metadata": {},
   "source": [
    "### Basic Setup"
   ]
  },
  {
   "cell_type": "code",
   "execution_count": 5,
   "metadata": {},
   "outputs": [],
   "source": [
    "import polars as pl\n",
    "from matplotlib import pyplot as plt\n",
    "import numpy as np\n",
    "from  sklearn.metrics import mean_absolute_percentage_error"
   ]
  },
  {
   "cell_type": "code",
   "execution_count": 6,
   "metadata": {},
   "outputs": [],
   "source": [
    "datadir = \"C:\\\\Users\\\\hdt.OJ\\\\OneDrive - OJ Electronics A S\\\\Thesis\\\\report\\\\data\"\n",
    "\n",
    "# modbus_log = f\"{datadir}\\\\Test 2\\\\ModbusGUI-Log-2024-02-28T145324.csv\"\n",
    "# base_log = f\"{datadir}\\\\Test 2\\\\BaseLog-2024-02-28T145348.csv\"\n",
    "\n",
    "# modbus_log = f\"{datadir}\\\\Test 3\\\\ModbusGUI-Log-2024-02-29T120935.csv\"\n",
    "# base_log = f\"{datadir}\\\\Test 3\\\\BaseLog-2024-02-29T121152.csv\"\n",
    "\n",
    "# modbus_log = f\"{datadir}\\\\Test 4\\\\ModbusGUI-Log-2024-03-01T163054.csv\"\n",
    "# base_log = f\"{datadir}\\\\Test 4\\\\BaseLog-2024-03-01T163114.csv\"\n",
    "\n",
    "# modbus_log = f\"{datadir}\\\\Test 5\\\\ModbusGUI-Log-2024-03-01T173112.csv\"\n",
    "# base_log = f\"{datadir}\\\\Test 5\\\\BaseLog-2024-03-01T173129.csv\"\n",
    "\n",
    "modbus_log = f\"{datadir}\\\\Test 6\\\\ModbusGUI-Log-2024-03-19T152042-ActiveCooling.csv\"\n",
    "base_log = f\"{datadir}\\\\Test 6\\\\BaseLog-2024-03-19T152053-ActiveCooling.csv\"\n",
    "\n",
    "# modbus_log = f\"{datadir}\\\\Test 6\\\\BaseLog-2024-03-20T100744-Heating.csv\"\n",
    "# base_log = f\"{datadir}\\\\Test 6\\\\ModbusGUI-Log-2024-03-20T100738-Heating.csv\"\n",
    "\n",
    "# modbus_log = f\"{datadir}\\\\Test 6\\\\ModbusGUI-Log-2024-03-20T134038-NaturalCooling.csv\"\n",
    "# base_log = f\"{datadir}\\\\Test 6\\\\BaseLog-2024-03-20T134102-NaturalCooling.csv\""
   ]
  },
  {
   "cell_type": "markdown",
   "metadata": {},
   "source": [
    "### Start Data Processing"
   ]
  },
  {
   "cell_type": "code",
   "execution_count": 7,
   "metadata": {},
   "outputs": [],
   "source": [
    "modbus_df = pl.read_csv(modbus_log)\n",
    "base_df = pl.read_csv(base_log)"
   ]
  },
  {
   "cell_type": "code",
   "execution_count": 8,
   "metadata": {},
   "outputs": [
    {
     "data": {
      "text/html": [
       "<div><style>\n",
       ".dataframe > thead > tr,\n",
       ".dataframe > tbody > tr {\n",
       "  text-align: right;\n",
       "  white-space: pre-wrap;\n",
       "}\n",
       "</style>\n",
       "<small>shape: (5, 9)</small><table border=\"1\" class=\"dataframe\"><thead><tr><th>timestamp</th><th>regulation_relay_state</th><th>regulation_setpoint</th><th>pwm_info_pwm_period</th><th>pwm_info_pwm_step</th><th>pwm_info_period_length_seconds</th><th>pwm_info_pulse_counter</th><th>temperature_ambient</th><th>temperature_floor</th></tr><tr><td>str</td><td>i64</td><td>f64</td><td>i64</td><td>i64</td><td>i64</td><td>i64</td><td>f64</td><td>f64</td></tr></thead><tbody><tr><td>&quot;2024-03-19_15:…</td><td>1</td><td>22.0</td><td>0</td><td>0</td><td>600</td><td>0</td><td>21.02</td><td>20.88</td></tr><tr><td>&quot;2024-03-19_15:…</td><td>1</td><td>22.0</td><td>0</td><td>0</td><td>600</td><td>0</td><td>21.02</td><td>20.88</td></tr><tr><td>&quot;2024-03-19_15:…</td><td>1</td><td>22.0</td><td>0</td><td>0</td><td>600</td><td>0</td><td>21.02</td><td>20.88</td></tr><tr><td>&quot;2024-03-19_15:…</td><td>1</td><td>22.0</td><td>0</td><td>0</td><td>600</td><td>0</td><td>21.02</td><td>20.88</td></tr><tr><td>&quot;2024-03-19_15:…</td><td>1</td><td>22.0</td><td>0</td><td>0</td><td>600</td><td>0</td><td>21.02</td><td>20.88</td></tr></tbody></table></div>"
      ],
      "text/plain": [
       "shape: (5, 9)\n",
       "┌───────────┬───────────┬───────────┬───────────┬───┬───────────┬───────────┬───────────┬──────────┐\n",
       "│ timestamp ┆ regulatio ┆ regulatio ┆ pwm_info_ ┆ … ┆ pwm_info_ ┆ pwm_info_ ┆ temperatu ┆ temperat │\n",
       "│ ---       ┆ n_relay_s ┆ n_setpoin ┆ pwm_perio ┆   ┆ period_le ┆ pulse_cou ┆ re_ambien ┆ ure_floo │\n",
       "│ str       ┆ tate      ┆ t         ┆ d         ┆   ┆ ngth_seco ┆ nter      ┆ t         ┆ r        │\n",
       "│           ┆ ---       ┆ ---       ┆ ---       ┆   ┆ nds       ┆ ---       ┆ ---       ┆ ---      │\n",
       "│           ┆ i64       ┆ f64       ┆ i64       ┆   ┆ ---       ┆ i64       ┆ f64       ┆ f64      │\n",
       "│           ┆           ┆           ┆           ┆   ┆ i64       ┆           ┆           ┆          │\n",
       "╞═══════════╪═══════════╪═══════════╪═══════════╪═══╪═══════════╪═══════════╪═══════════╪══════════╡\n",
       "│ 2024-03-1 ┆ 1         ┆ 22.0      ┆ 0         ┆ … ┆ 600       ┆ 0         ┆ 21.02     ┆ 20.88    │\n",
       "│ 9_15:20:4 ┆           ┆           ┆           ┆   ┆           ┆           ┆           ┆          │\n",
       "│ 7         ┆           ┆           ┆           ┆   ┆           ┆           ┆           ┆          │\n",
       "│ 2024-03-1 ┆ 1         ┆ 22.0      ┆ 0         ┆ … ┆ 600       ┆ 0         ┆ 21.02     ┆ 20.88    │\n",
       "│ 9_15:20:4 ┆           ┆           ┆           ┆   ┆           ┆           ┆           ┆          │\n",
       "│ 8         ┆           ┆           ┆           ┆   ┆           ┆           ┆           ┆          │\n",
       "│ 2024-03-1 ┆ 1         ┆ 22.0      ┆ 0         ┆ … ┆ 600       ┆ 0         ┆ 21.02     ┆ 20.88    │\n",
       "│ 9_15:20:4 ┆           ┆           ┆           ┆   ┆           ┆           ┆           ┆          │\n",
       "│ 9         ┆           ┆           ┆           ┆   ┆           ┆           ┆           ┆          │\n",
       "│ 2024-03-1 ┆ 1         ┆ 22.0      ┆ 0         ┆ … ┆ 600       ┆ 0         ┆ 21.02     ┆ 20.88    │\n",
       "│ 9_15:20:5 ┆           ┆           ┆           ┆   ┆           ┆           ┆           ┆          │\n",
       "│ 0         ┆           ┆           ┆           ┆   ┆           ┆           ┆           ┆          │\n",
       "│ 2024-03-1 ┆ 1         ┆ 22.0      ┆ 0         ┆ … ┆ 600       ┆ 0         ┆ 21.02     ┆ 20.88    │\n",
       "│ 9_15:20:5 ┆           ┆           ┆           ┆   ┆           ┆           ┆           ┆          │\n",
       "│ 1         ┆           ┆           ┆           ┆   ┆           ┆           ┆           ┆          │\n",
       "└───────────┴───────────┴───────────┴───────────┴───┴───────────┴───────────┴───────────┴──────────┘"
      ]
     },
     "execution_count": 8,
     "metadata": {},
     "output_type": "execute_result"
    }
   ],
   "source": [
    "modbus_df = modbus_df.rename(mapping={'TimeStamp':'timestamp'})\n",
    "modbus_df = modbus_df.drop(\"time_monotonic_seconds\", \"pwm_info_pulse_target\")\n",
    "modbus_df.head()"
   ]
  },
  {
   "cell_type": "code",
   "execution_count": 9,
   "metadata": {},
   "outputs": [
    {
     "data": {
      "text/html": [
       "<div><style>\n",
       ".dataframe > thead > tr,\n",
       ".dataframe > tbody > tr {\n",
       "  text-align: right;\n",
       "  white-space: pre-wrap;\n",
       "}\n",
       "</style>\n",
       "<small>shape: (5, 6)</small><table border=\"1\" class=\"dataframe\"><thead><tr><th>timestamp</th><th>sec              </th><th>RefFloor-(CG0)   </th><th>RefRoom-(CG1)    </th><th>RefTopFloor-(CG3)</th><th>AirInHouse-(CG4) </th></tr><tr><td>str</td><td>i64</td><td>i64</td><td>i64</td><td>i64</td><td>i64</td></tr></thead><tbody><tr><td>&quot;2024-03-19_15:…</td><td>3</td><td>213</td><td>220</td><td>207</td><td>218</td></tr><tr><td>&quot;2024-03-19_15:…</td><td>4</td><td>213</td><td>220</td><td>207</td><td>218</td></tr><tr><td>&quot;2024-03-19_15:…</td><td>5</td><td>213</td><td>220</td><td>207</td><td>218</td></tr><tr><td>&quot;2024-03-19_15:…</td><td>6</td><td>213</td><td>220</td><td>207</td><td>218</td></tr><tr><td>&quot;2024-03-19_15:…</td><td>7</td><td>213</td><td>220</td><td>207</td><td>218</td></tr></tbody></table></div>"
      ],
      "text/plain": [
       "shape: (5, 6)\n",
       "┌────────────────┬────────────────┬────────────────┬───────────────┬───────────────┬───────────────┐\n",
       "│ timestamp      ┆ sec            ┆ RefFloor-(CG0) ┆ RefRoom-(CG1) ┆ RefTopFloor-( ┆ AirInHouse-(C │\n",
       "│ ---            ┆ ---            ┆ ---            ┆ ---           ┆ CG3)          ┆ G4)           │\n",
       "│ str            ┆ i64            ┆ i64            ┆ i64           ┆ ---           ┆ ---           │\n",
       "│                ┆                ┆                ┆               ┆ i64           ┆ i64           │\n",
       "╞════════════════╪════════════════╪════════════════╪═══════════════╪═══════════════╪═══════════════╡\n",
       "│ 2024-03-19_15: ┆ 3              ┆ 213            ┆ 220           ┆ 207           ┆ 218           │\n",
       "│ 20:54          ┆                ┆                ┆               ┆               ┆               │\n",
       "│ 2024-03-19_15: ┆ 4              ┆ 213            ┆ 220           ┆ 207           ┆ 218           │\n",
       "│ 20:55          ┆                ┆                ┆               ┆               ┆               │\n",
       "│ 2024-03-19_15: ┆ 5              ┆ 213            ┆ 220           ┆ 207           ┆ 218           │\n",
       "│ 20:56          ┆                ┆                ┆               ┆               ┆               │\n",
       "│ 2024-03-19_15: ┆ 6              ┆ 213            ┆ 220           ┆ 207           ┆ 218           │\n",
       "│ 20:57          ┆                ┆                ┆               ┆               ┆               │\n",
       "│ 2024-03-19_15: ┆ 7              ┆ 213            ┆ 220           ┆ 207           ┆ 218           │\n",
       "│ 20:58          ┆                ┆                ┆               ┆               ┆               │\n",
       "└────────────────┴────────────────┴────────────────┴───────────────┴───────────────┴───────────────┘"
      ]
     },
     "execution_count": 9,
     "metadata": {},
     "output_type": "execute_result"
    }
   ],
   "source": [
    "base_df = base_df[[\n",
    "    \"timestamp\",\n",
    "    \"sec              \",\n",
    "    \"RefFloor-(CG0)   \",\n",
    "    \"RefRoom-(CG1)    \",\n",
    "    \"RefTopFloor-(CG3)\",\n",
    "    \"AirInHouse-(CG4) \"\n",
    "]]\n",
    "\n",
    "base_df.head()"
   ]
  },
  {
   "cell_type": "code",
   "execution_count": 10,
   "metadata": {},
   "outputs": [
    {
     "data": {
      "text/html": [
       "<div><style>\n",
       ".dataframe > thead > tr,\n",
       ".dataframe > tbody > tr {\n",
       "  text-align: right;\n",
       "  white-space: pre-wrap;\n",
       "}\n",
       "</style>\n",
       "<small>shape: (5, 14)</small><table border=\"1\" class=\"dataframe\"><thead><tr><th>timestamp</th><th>regulation_relay_state</th><th>regulation_setpoint</th><th>pwm_info_pwm_period</th><th>pwm_info_pwm_step</th><th>pwm_info_period_length_seconds</th><th>pwm_info_pulse_counter</th><th>temperature_ambient</th><th>temperature_floor</th><th>sec              </th><th>RefFloor-(CG0)   </th><th>RefRoom-(CG1)    </th><th>RefTopFloor-(CG3)</th><th>AirInHouse-(CG4) </th></tr><tr><td>str</td><td>i64</td><td>f64</td><td>i64</td><td>i64</td><td>i64</td><td>i64</td><td>f64</td><td>f64</td><td>i64</td><td>i64</td><td>i64</td><td>i64</td><td>i64</td></tr></thead><tbody><tr><td>&quot;2024-03-19_15:…</td><td>1</td><td>22.0</td><td>0</td><td>0</td><td>600</td><td>0</td><td>21.02</td><td>20.88</td><td>4</td><td>213</td><td>220</td><td>207</td><td>218</td></tr><tr><td>&quot;2024-03-19_15:…</td><td>1</td><td>22.0</td><td>0</td><td>0</td><td>600</td><td>0</td><td>21.02</td><td>20.88</td><td>5</td><td>213</td><td>220</td><td>207</td><td>218</td></tr><tr><td>&quot;2024-03-19_15:…</td><td>1</td><td>22.0</td><td>0</td><td>0</td><td>600</td><td>0</td><td>21.02</td><td>20.88</td><td>6</td><td>213</td><td>220</td><td>207</td><td>218</td></tr><tr><td>&quot;2024-03-19_15:…</td><td>1</td><td>22.0</td><td>0</td><td>0</td><td>600</td><td>0</td><td>21.02</td><td>20.88</td><td>7</td><td>213</td><td>220</td><td>207</td><td>218</td></tr><tr><td>&quot;2024-03-19_15:…</td><td>1</td><td>22.0</td><td>0</td><td>0</td><td>600</td><td>0</td><td>21.02</td><td>20.88</td><td>8</td><td>213</td><td>220</td><td>207</td><td>218</td></tr></tbody></table></div>"
      ],
      "text/plain": [
       "shape: (5, 14)\n",
       "┌───────────┬───────────┬───────────┬───────────┬───┬───────────┬───────────┬───────────┬──────────┐\n",
       "│ timestamp ┆ regulatio ┆ regulatio ┆ pwm_info_ ┆ … ┆ RefFloor- ┆ RefRoom-( ┆ RefTopFlo ┆ AirInHou │\n",
       "│ ---       ┆ n_relay_s ┆ n_setpoin ┆ pwm_perio ┆   ┆ (CG0)     ┆ CG1)      ┆ or-(CG3)  ┆ se-(CG4) │\n",
       "│ str       ┆ tate      ┆ t         ┆ d         ┆   ┆ ---       ┆ ---       ┆ ---       ┆ ---      │\n",
       "│           ┆ ---       ┆ ---       ┆ ---       ┆   ┆ i64       ┆ i64       ┆ i64       ┆ i64      │\n",
       "│           ┆ i64       ┆ f64       ┆ i64       ┆   ┆           ┆           ┆           ┆          │\n",
       "╞═══════════╪═══════════╪═══════════╪═══════════╪═══╪═══════════╪═══════════╪═══════════╪══════════╡\n",
       "│ 2024-03-1 ┆ 1         ┆ 22.0      ┆ 0         ┆ … ┆ 213       ┆ 220       ┆ 207       ┆ 218      │\n",
       "│ 9_15:20:5 ┆           ┆           ┆           ┆   ┆           ┆           ┆           ┆          │\n",
       "│ 5         ┆           ┆           ┆           ┆   ┆           ┆           ┆           ┆          │\n",
       "│ 2024-03-1 ┆ 1         ┆ 22.0      ┆ 0         ┆ … ┆ 213       ┆ 220       ┆ 207       ┆ 218      │\n",
       "│ 9_15:20:5 ┆           ┆           ┆           ┆   ┆           ┆           ┆           ┆          │\n",
       "│ 6         ┆           ┆           ┆           ┆   ┆           ┆           ┆           ┆          │\n",
       "│ 2024-03-1 ┆ 1         ┆ 22.0      ┆ 0         ┆ … ┆ 213       ┆ 220       ┆ 207       ┆ 218      │\n",
       "│ 9_15:20:5 ┆           ┆           ┆           ┆   ┆           ┆           ┆           ┆          │\n",
       "│ 7         ┆           ┆           ┆           ┆   ┆           ┆           ┆           ┆          │\n",
       "│ 2024-03-1 ┆ 1         ┆ 22.0      ┆ 0         ┆ … ┆ 213       ┆ 220       ┆ 207       ┆ 218      │\n",
       "│ 9_15:20:5 ┆           ┆           ┆           ┆   ┆           ┆           ┆           ┆          │\n",
       "│ 8         ┆           ┆           ┆           ┆   ┆           ┆           ┆           ┆          │\n",
       "│ 2024-03-1 ┆ 1         ┆ 22.0      ┆ 0         ┆ … ┆ 213       ┆ 220       ┆ 207       ┆ 218      │\n",
       "│ 9_15:20:5 ┆           ┆           ┆           ┆   ┆           ┆           ┆           ┆          │\n",
       "│ 9         ┆           ┆           ┆           ┆   ┆           ┆           ┆           ┆          │\n",
       "└───────────┴───────────┴───────────┴───────────┴───┴───────────┴───────────┴───────────┴──────────┘"
      ]
     },
     "execution_count": 10,
     "metadata": {},
     "output_type": "execute_result"
    }
   ],
   "source": [
    "df = modbus_df.join(base_df, on=\"timestamp\", how=\"inner\")\n",
    "df.head()"
   ]
  },
  {
   "cell_type": "code",
   "execution_count": 11,
   "metadata": {},
   "outputs": [
    {
     "name": "stderr",
     "output_type": "stream",
     "text": [
      "No artists with labels found to put in legend.  Note that artists whose label start with an underscore are ignored when legend() is called with no argument.\n"
     ]
    },
    {
     "data": {
      "image/png": "[encoded data removed]",
      "text/plain": [
       "<Figure size 640x480 with 1 Axes>"
      ]
     },
     "metadata": {},
     "output_type": "display_data"
    }
   ],
   "source": [
    "# df[f\"regulation_setpoint\"][0:-1] = 20\n",
    "\n",
    "plt.figure(1)\n",
    "plt.plot(df[\"temperature_floor\"])\n",
    "# df.replace(\"regulation_setpoint\", pl.Series(np.full(df.height, 20.0)))\n",
    "plt.plot(df[\"regulation_setpoint\"])\n",
    "# plt.plot(df[\"RefTopFloor-(CG3)\"])\n",
    "# plt.plot(df[\"RefFloor-(CG0)   \"]/10)\n",
    "# plt.plot(df[\"AirInHouse-(CG4) \"]/10)\n",
    "# plt.yticks(np.arange(0, 30, 0.5))\n",
    "plt.legend()\n",
    "plt.show()"
   ]
  },
  {
   "cell_type": "code",
   "execution_count": 12,
   "metadata": {},
   "outputs": [
    {
     "name": "stdout",
     "output_type": "stream",
     "text": [
      "Mean absolute percentage error of this test is:  0.4474183869841416\n"
     ]
    }
   ],
   "source": [
    "def count_relay_switch(relay_states: pl.Series):\n",
    "    state_difference = (relay_states[1:-1] - relay_states[0:-2]).abs()\n",
    "    return state_difference.sum()\n",
    "\n",
    "mape =  mean_absolute_percentage_error(df[\"regulation_setpoint\"], df[\"temperature_floor\"])\n",
    "print(\"Mean absolute percentage error of this test is: \", mape)"
   ]
  },
  {
   "cell_type": "code",
   "execution_count": 13,
   "metadata": {},
   "outputs": [
    {
     "data": {
      "image/png": "[encoded data removed]",
      "text/plain": [
       "<Figure size 640x480 with 1 Axes>"
      ]
     },
     "metadata": {},
     "output_type": "display_data"
    },
    {
     "name": "stdout",
     "output_type": "stream",
     "text": [
      "Total number of relay clicks is:  0\n"
     ]
    }
   ],
   "source": [
    "plt.figure(2)\n",
    "plt.plot(df[\"regulation_relay_state\"])\n",
    "plt.show()\n",
    "print(\"Total number of relay clicks is: \", count_relay_switch(df[\"regulation_relay_state\"]))"
   ]
  },
  {
   "cell_type": "markdown",
   "metadata": {},
   "source": [
    "The actual IO diagram is generated by the PI controller, hence not very well-fitted to be used for System Identification (SI) because SI requires a natural response under step input."
   ]
  },
  {
   "cell_type": "code",
   "execution_count": 14,
   "metadata": {},
   "outputs": [],
   "source": [
    "df.write_csv(f\"{datadir}\\\\si_activeCooling.csv\")"
   ]
  },
  {
   "cell_type": "markdown",
   "metadata": {},
   "source": [
    "## Aggregate Heating and Cooling Phases"
   ]
  },
  {
   "cell_type": "code",
   "execution_count": 15,
   "metadata": {},
   "outputs": [],
   "source": [
    "base_log_cool = f\"{datadir}\\\\Test 6\\\\BaseLog-2024-03-19T152053-ActiveCooling.csv\"\n",
    "modbus_log_cool = f\"{datadir}\\\\Test 6\\\\ModbusGUI-Log-2024-03-19T152042-ActiveCooling.csv\"\n",
    "\n",
    "base_log_heat = f\"{datadir}\\\\Test 6\\\\BaseLog-2024-03-20T100744-Heating.csv\"\n",
    "modbus_log_heat = f\"{datadir}\\\\Test 6\\\\ModbusGUI-Log-2024-03-20T100738-Heating.csv\"\n",
    "\n",
    "# base_log = f\"{datadir}\\\\Test 6\\\\BaseLog-2024-03-20T134102-NaturalCooling.csv\"\n",
    "# modbus_log = f\"{datadir}\\\\Test 6\\\\ModbusGUI-Log-2024-03-20T134038-NaturalCooling.csv\""
   ]
  }
 ],
 "metadata": {
  "kernelspec": {
   "display_name": "thesis",
   "language": "python",
   "name": "python3"
  },
  "language_info": {
   "codemirror_mode": {
    "name": "ipython",
    "version": 3
   },
   "file_extension": ".py",
   "mimetype": "text/x-python",
   "name": "python",
   "nbconvert_exporter": "python",
   "pygments_lexer": "ipython3",
   "version": "3.12.2"
  }
 },
 "nbformat": 4,
 "nbformat_minor": 2
}
